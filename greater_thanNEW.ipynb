{
 "cells": [
  {
   "cell_type": "code",
   "execution_count": null,
   "metadata": {},
   "outputs": [],
   "source": [
    "def greater_than(df,col1,col2):\n",
    "    col1_index = df.columns.get_loc(col1)\n",
    "    col2_index = df.columns.get_loc(col2)\n",
    "    \n",
    "    greater_list = []\n",
    "    for i in range(df.shape[0]):\n",
    "        if (df.iloc[i,col1_index] < df.iloc[i,col2_index]):\n",
    "            greater_list.append(0)\n",
    "        else:\n",
    "            greater_list.append(1)\n",
    "    df['greater than average'] = greater_list \n",
    "    #checks if correct\n",
    "    print(df['greater than average'].head(10))"
   ]
  }
 ],
 "metadata": {
  "kernelspec": {
   "display_name": "Python 3",
   "language": "python",
   "name": "python3"
  },
  "language_info": {
   "codemirror_mode": {
    "name": "ipython",
    "version": 3
   },
   "file_extension": ".py",
   "mimetype": "text/x-python",
   "name": "python",
   "nbconvert_exporter": "python",
   "pygments_lexer": "ipython3",
   "version": "3.8.5"
  }
 },
 "nbformat": 4,
 "nbformat_minor": 4
}
