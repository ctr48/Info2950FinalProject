{
 "cells": [
  {
   "cell_type": "markdown",
   "metadata": {},
   "source": [
    "# __MUTUAL FUND AND ETF ANALYSIS PHASE III__"
   ]
  },
  {
   "cell_type": "markdown",
   "metadata": {},
   "source": [
    "Group Members: Cassandra Kaufman, Cameron Robinson, David Vilensky, Emily Sobel\n"
   ]
  },
  {
   "cell_type": "markdown",
   "metadata": {},
   "source": [
    " __RESEARCH QUESTION:__\n",
    "What set of criteria is most important to the sucess of a mutual fund? What about amongst ETFs? Which type of fund is more successful overall and can the success of a fund be accurately predicted based on these observed criteria?"
   ]
  },
  {
   "cell_type": "markdown",
   "metadata": {},
   "source": [
    "### __ANALYSIS 1:__\n",
    "\n",
    "The overall premise of this idea is to create a method or predictor variable that predicts the success of a fund. To do this, we will analyze the variables of the funds that we have in our data set to see which variables are most closely correlated with the success of a fund. After finding which variables are most closely correlated with the success of a fund, we will define a model that uses these variables to predict fund returns in given time periods. This will provide us with a deeper understanding of which factors most greatly influence fund performance and which variables have little effect on fund performance. By exploring the correlations between variables and fund success, we will further discover the intricacy of what makes a fund successful or unsuccessful. We will perform a factor analysis of sorts for each of the two fund types -- ETFs and Mutual funds -- and compare the relationships between variables that make that specific fund type successful. We aim to distinguish the success of funds in different time frames, short term,medium term, and long term, as they may have differing contributing variables. **The point of this analysis is to make a finding about the distinguishing characteristics of successful ETFs and Mutual funds -- and what makes these respective fund types successful in the long and short term.**"
   ]
  },
  {
   "cell_type": "markdown",
   "metadata": {},
   "source": [
    "### __ANALYSIS 2:__\n",
    "\n",
    "Our second idea focuses more on the binary characteristics of funds. An example variable in our data set we could use for a binary analysis is where funds are invested - by differentiating funds into 2 categories , one where that fund has invested greater than 50% of its assets into stocks or specific economic sectors and the second category representing an investment of less than 50% of assets. **The point of this analysis is to find connections between fund success and investment in particular sectors of the economy, which could lead to a comparison of where the assets of each respective fund type are dominantly being invested and the outcome of these investments.**\n",
    "We could also use this type of analysis to determine which individual size type is most closely correlated with fund success (Ex: size is large or not large, size is small or not small). Alternatively, we could try to predict the fund success based on fund type. This is because fund type is a binary variable in this scenario as being either Mutual funds or ETFs. Analysis of binary variables can be quite useful in determining the direct relationship between the presence of a certain variable and fund success because the external influences are limited. Thinking in terms of binary characteristics is a very effective way to analyse different aspects of something. It helps when you want to stay broad and not have too many categories, and this is what we want to do with this analysis. Our first analysis was looking into more specific variables, where this one takes a broader approach to looking at the fund in the bigger picture and a little more simply by using binary characteristics.\n"
   ]
  },
  {
   "cell_type": "code",
   "execution_count": null,
   "metadata": {},
   "outputs": [],
   "source": []
  }
 ],
 "metadata": {
  "kernelspec": {
   "display_name": "Python 3",
   "language": "python",
   "name": "python3"
  },
  "language_info": {
   "codemirror_mode": {
    "name": "ipython",
    "version": 3
   },
   "file_extension": ".py",
   "mimetype": "text/x-python",
   "name": "python",
   "nbconvert_exporter": "python",
   "pygments_lexer": "ipython3",
   "version": "3.8.5"
  }
 },
 "nbformat": 4,
 "nbformat_minor": 4
}
