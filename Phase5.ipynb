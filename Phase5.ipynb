{
 "cells": [
  {
   "cell_type": "markdown",
   "metadata": {},
   "source": [
    "# INFO 2950 Final Project \n",
    "\n",
    "## Fund Investment Decisions: Mutual Funds or Exchange Traded Funds?"
   ]
  },
  {
   "cell_type": "markdown",
   "metadata": {},
   "source": [
    "By Cameron Robinson (ctr48) , David Vilensky (dlv46) , Cassandra Kaufman (cpk57) , and Emily Sobel (es983)"
   ]
  },
  {
   "cell_type": "markdown",
   "metadata": {},
   "source": [
    "## Introduction"
   ]
  },
  {
   "cell_type": "markdown",
   "metadata": {},
   "source": [
    "---- insert introduction ----"
   ]
  },
  {
   "cell_type": "markdown",
   "metadata": {},
   "source": [
    " __Research Question:__\n",
    "\n",
    "What set of criteria is most important to the sucess of a mutual fund? What about amongst ETFs? Which type of fund is more successful overall can can the success of a fund be accurately predicted based on these observed criteria?"
   ]
  },
  {
   "cell_type": "markdown",
   "metadata": {},
   "source": [
    "## Importing"
   ]
  },
  {
   "cell_type": "code",
   "execution_count": 31,
   "metadata": {},
   "outputs": [],
   "source": [
    "# imports and settings\n",
    "import matplotlib.pyplot as plt\n",
    "import numpy as np\n",
    "import pandas as pd\n",
    "import seaborn as sns\n",
    "import statsmodels.api as sm\n",
    "\n",
    "from sklearn.linear_model import LinearRegression, LogisticRegression\n",
    "from sklearn.model_selection import train_test_split, cross_val_score\n",
    "from sklearn.preprocessing import StandardScaler\n",
    "from sklearn.ensemble import RandomForestRegressor\n",
    "from scipy.stats import chi2_contingency\n",
    "from sklearn.feature_extraction.text import TfidfVectorizer\n",
    "from sklearn.decomposition import TruncatedSVD\n",
    "import re\n",
    "\n",
    "%matplotlib inline\n",
    "plt.rcParams['figure.figsize'] = (12.0, 8.0)\n",
    "plt.style.use('seaborn-poster')"
   ]
  },
  {
   "cell_type": "markdown",
   "metadata": {},
   "source": [
    "## Data Overview"
   ]
  },
  {
   "cell_type": "markdown",
   "metadata": {},
   "source": [
    "\n",
    "\n",
    "The file contains 24,821 Mutual Funds and 1,680 ETFs with general aspects (as Total Net Assets, management company and size), portfolio indicators (as cash, stocks, bonds, and sectors), returns (as yeartodate, 2020-11) and financial ratios (as price/earning, Treynor and Sharpe ratios, alpha, and beta). This data was scraped from Yahoo Finance by kaggle user Stefano Leone.\n",
    "\n",
    "Link to dataset: https://www.kaggle.com/stefanoleone992/mutual-funds-and-etfs\n"
   ]
  },
  {
   "cell_type": "markdown",
   "metadata": {},
   "source": [
    "__Exchange Traded Funds Dataset: 'ETFs.csv'__\n"
   ]
  },
  {
   "cell_type": "code",
   "execution_count": 7,
   "metadata": {},
   "outputs": [],
   "source": [
    "df_etf=pd.read_csv('USData/ETFs.csv')"
   ]
  },
  {
   "cell_type": "markdown",
   "metadata": {},
   "source": [
    "__Mutual Funds Dataset: 'Mutual Funds.csv'__"
   ]
  },
  {
   "cell_type": "code",
   "execution_count": 8,
   "metadata": {},
   "outputs": [
    {
     "name": "stderr",
     "output_type": "stream",
     "text": [
      "C:\\Users\\camro\\anaconda3\\lib\\site-packages\\IPython\\core\\interactiveshell.py:3071: DtypeWarning: Columns (167,171) have mixed types.Specify dtype option on import or set low_memory=False.\n",
      "  has_raised = await self.run_ast_nodes(code_ast.body, cell_name,\n"
     ]
    }
   ],
   "source": [
    "df_mf=pd.read_csv('USData/Mutual Funds.csv')"
   ]
  },
  {
   "cell_type": "markdown",
   "metadata": {},
   "source": [
    "## Data Description"
   ]
  },
  {
   "cell_type": "markdown",
   "metadata": {},
   "source": [
    "The two datasets used were created to allow for multiple comparisons regarding portfolio decisions from investment managers in Mutual Funds and portfolio restrictions to the indexes in Exchnage traded funds. Each of the datasets are composed of publicly available information and were not funded by any companies or private organizations. The instances in each of the datasets are  funds with the respective fund type, either Exchange traded funds in the ETF.csv or Mutual funds in the Mutual Funds.csv. The columns in each of the datasets contain information on the respective fund's financial ratios, sector investments, risk ratios, and returns. The data in each of the datasets was collected over a time period between 2011 and 2020. The original datasets don't have any errors but they do contain null information in the form of empty columns that were dropped during our data cleaning. This preprocessing and all other preprocessing of the data found in the two datasets is extensively documented in our data cleaning section and we have made no additional modifications or alterations to the data. The creator of the datasets placed no copyrights or restrictions on their use and under its license of CC0: Public Domain, we have permission to access and use its both of the datsets content for our project. \n",
    " "
   ]
  },
  {
   "cell_type": "markdown",
   "metadata": {},
   "source": [
    "## Data Cleaning"
   ]
  },
  {
   "cell_type": "markdown",
   "metadata": {},
   "source": [
    "Since our datasets are rather large, we created a method that allowed us to break down and sort either dataset based off keywords in column names : "
   ]
  },
  {
   "cell_type": "code",
   "execution_count": 9,
   "metadata": {},
   "outputs": [],
   "source": [
    "### Creates and returns a subset of df_mf by keeping only the columns with 'keyword' in their column name. \n",
    "def cleanbykeyword(df,keyword):\n",
    "    \"\"\"\n",
    "    Searches and creates a list of all of the column names in df that contain the keyword.\n",
    "    Subsets the df according to this list, then creates a df_new dataframe with this \n",
    "    information and drops the corresponding columns from the original df.\n",
    "\n",
    "    Arguments:\n",
    "        df: Dataset pandas DataFrame.\n",
    "        cols: List of columns to be included in calculations. \n",
    "        keyword: Word to be removed from column name in order to preserve clarity with labeling.\n",
    "        \n",
    "        \n",
    "    Return: dataframe containing data matching keyword.\n",
    "    \"\"\"\n",
    "    col_list=[ i for i in df.columns if (keyword in i)] \n",
    "    #print(col_list)\n",
    "    df_new=df[col_list]\n",
    "    df.drop(columns=col_list,axis=1,inplace=True) #removes duplicate data from df_mf masterframe\n",
    "    df_new.insert(0,'fund_symbol',df.fund_symbol) #inserts the fund symbols as the 1st column of the new data set\n",
    "    return (df_new)"
   ]
  },
  {
   "cell_type": "markdown",
   "metadata": {},
   "source": [
    "Throwing away empty columns and columns not used in our analysis: "
   ]
  },
  {
   "cell_type": "code",
   "execution_count": 10,
   "metadata": {},
   "outputs": [],
   "source": [
    "empty_cols2 = [col for col in df_etf.columns if df_etf[col].isnull().all()]\n",
    "df_etf.drop(empty_cols2,\n",
    "        axis=1,\n",
    "        inplace=True)\n",
    "\n",
    "throwaway_cols=[\n",
    "    'quarters_up',\n",
    "    'quarters_down',\n",
    "    'top10_holdings',\n",
    "    'years_up',\n",
    "    'years_down',\n",
    "    'currency'\n",
    "]\n",
    "df_mf.drop(columns=throwaway_cols,axis=1,inplace=True)\n",
    "df_etf.drop(columns=throwaway_cols[2:],axis=1,inplace=True)\n",
    "\n",
    "df_etf.to_csv('NoEmptiesETFs.csv',index=False)\n",
    "df_mf.to_csv('NoEmptiesMutual Funds.csv',index=False)\n",
    "\n"
   ]
  },
  {
   "cell_type": "markdown",
   "metadata": {},
   "source": [
    "Removing category data from the dataframe. Some of the category columns were not updated properly in the data set and therefore cannot be used in our analyses, we drop them to save space:"
   ]
  },
  {
   "cell_type": "code",
   "execution_count": 11,
   "metadata": {},
   "outputs": [],
   "source": [
    "df_mf_category_data=cleanbykeyword(df_mf,'category_')\n",
    "df_etf_category_data=cleanbykeyword(df_etf,'category_')"
   ]
  },
  {
   "cell_type": "markdown",
   "metadata": {},
   "source": [
    "__Using our clean by keyword method to break the dataframe into more easily accessible parts:__"
   ]
  },
  {
   "cell_type": "code",
   "execution_count": 30,
   "metadata": {},
   "outputs": [],
   "source": [
    "#standard deviation\n",
    "df_mf_standard_deviations= cleanbykeyword(df_mf,'standard_deviation')\n",
    "df_etf_standard_deviations=cleanbykeyword(df_etf,'standard_deviation')\n",
    "\n",
    "df_etf_standard_deviations.to_csv('stdsETFs.csv',index=False)\n",
    "df_mf_standard_deviations.to_csv('stdsMutual Funds.csv',index=False)\n",
    "\n",
    "#sector\n",
    "df_mf_sector=cleanbykeyword(df_mf,'sector')\n",
    "df_etf_sector=cleanbykeyword(df_etf,'sector')\n",
    "\n",
    "df_etf_sector.to_csv('sectorsETFs.csv',index=False)\n",
    "df_mf_sector.to_csv('sectorsMutual Funds.csv',index=False)\n",
    "\n",
    "#ratios\n",
    "df_mf_ratios=cleanbykeyword(df_mf,'_ratio')\n",
    "df_etf_ratios=cleanbykeyword(df_etf,'_ratio')\n",
    "\n",
    "df_etf_ratios.to_csv('ratiosETFs.csv',index=False)\n",
    "df_mf_ratios.to_csv('ratiosMutual Funds.csv',index=False)\n",
    "                    \n",
    "#alpha & beta \n",
    "df_mf_alpha=cleanbykeyword(df_mf,'alpha')\n",
    "df_etf_alpha=cleanbykeyword(df_etf,'alpha')\n",
    "\n",
    "df_mf_beta=cleanbykeyword(df_mf,'beta')\n",
    "df_etf_beta=cleanbykeyword(df_etf,'beta')\n",
    "                    \n",
    "#credit\n",
    "df_mf_credit=cleanbykeyword(df_mf,'credit').dropna()\n",
    "df_etf_credit=cleanbykeyword(df_etf,'credit').dropna()\n",
    "df_mf_credit.to_csv('creditsMutual Funds.csv',index=False)\n",
    "\n",
    "#R squared\n",
    "df_mf_rsquare=cleanbykeyword(df_mf,'squared')\n",
    "df_etf_rsquare=cleanbykeyword(df_etf,'squared')\n",
    "\n",
    "#assets\n",
    "df_mf_asset=cleanbykeyword(df_mf,'asset')\n",
    "df_etf_asset=cleanbykeyword(df_etf,'asset')\n",
    "\n",
    "df_etf_asset.to_csv('assetsETFs.csv',index=False)\n",
    "df_mf_asset.to_csv('assetsMutual Funds.csv',index=False)\\\n",
    "                    \n",
    "#fund return\n",
    "df_mf_return_history=cleanbykeyword(df_mf,'_return_')\n",
    "df_etf_return_history=cleanbykeyword(df_etf,'_return_').dropna()\n",
    "\n",
    "df_etf_return_history.to_csv('returnsETFs.csv',index=False)\n",
    "df_mf_return_history.to_csv('returnsMutual Funds.csv',index=False)\n",
    "\n",
    "    #Adds fund_return_ytd column to main datafrme and removes from return history subframe\n",
    "df_mf['fund_return_ytd']=df_mf_return_history['fund_return_ytd']\n",
    "df_etf['fund_return_ytd']=df_etf_return_history['fund_return_ytd']\n",
    "df_mf_return_history=df_mf_return_history.drop(columns=['fund_return_ytd'])\n",
    "df_etf_return_history=df_etf_return_history.drop(columns=['fund_return_ytd'])\n",
    "    \n",
    "#Removing quarterly data from return history\n",
    "#cleanbykeyword(df_mf_return_history,'_q')\n",
    "#cleanbykeyword(df_etf_return_history,'_q')\n",
    "\n",
    "#merging datasets containing R-Squares, Alpha, and Beta values into a single data set:\n",
    "df_mf_stats=df_mf_rsquare.merge(df_mf_alpha,how='left')\n",
    "df_mf_stats=df_mf_stats.merge(df_mf_beta,how='left')\n",
    "df_mf_stats.to_csv('statsMutual Funds.csv',index=False)\n",
    "df_mf_stats.head()\n",
    "\n",
    "df_etf_stats=df_etf_rsquare.merge(df_etf_alpha,how='left')\n",
    "df_etf_stats=df_etf_stats.merge(df_etf_beta,how='left')\n",
    "df_etf_stats.to_csv('statsETFs.csv',index=False)\n"
   ]
  },
  {
   "cell_type": "markdown",
   "metadata": {},
   "source": [
    "# Exploratory Analysis"
   ]
  },
  {
   "cell_type": "code",
   "execution_count": null,
   "metadata": {},
   "outputs": [],
   "source": [
    "\n",
    "\n"
   ]
  }
 ],
 "metadata": {
  "kernelspec": {
   "display_name": "Python 3",
   "language": "python",
   "name": "python3"
  },
  "language_info": {
   "codemirror_mode": {
    "name": "ipython",
    "version": 3
   },
   "file_extension": ".py",
   "mimetype": "text/x-python",
   "name": "python",
   "nbconvert_exporter": "python",
   "pygments_lexer": "ipython3",
   "version": "3.8.3"
  }
 },
 "nbformat": 4,
 "nbformat_minor": 4
}
